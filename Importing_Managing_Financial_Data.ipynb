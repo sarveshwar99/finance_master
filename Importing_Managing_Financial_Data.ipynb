{
 "cells": [
  {
   "cell_type": "code",
   "execution_count": 34,
   "metadata": {},
   "outputs": [],
   "source": [
    "import pandas as pd\n",
    "import matplotlib.pyplot as plt\n",
    "import seaborn as sns\n",
    "import numpy as np"
   ]
  },
  {
   "cell_type": "markdown",
   "metadata": {},
   "source": [
    "### Importing data from excel,csv"
   ]
  },
  {
   "cell_type": "markdown",
   "metadata": {},
   "source": [
    "### from csv"
   ]
  },
  {
   "cell_type": "raw",
   "metadata": {},
   "source": [
    "nasdaq = pd.read_csv('nasdaq-listings.csv', na_values='NAN', parse_dates=['Last Update'])"
   ]
  },
  {
   "cell_type": "markdown",
   "metadata": {},
   "source": [
    "### from excel"
   ]
  },
  {
   "cell_type": "raw",
   "metadata": {},
   "source": [
    "nyse = pd.read_excel('listings.xlsx', sheetname='nyse', na_values='n/a')"
   ]
  },
  {
   "cell_type": "markdown",
   "metadata": {},
   "source": [
    "### pd.concat to stack dataframes on each other combining similar columns"
   ]
  },
  {
   "cell_type": "code",
   "execution_count": 2,
   "metadata": {},
   "outputs": [
    {
     "name": "stderr",
     "output_type": "stream",
     "text": [
      "C:\\Users\\Gaya\\Anaconda3\\lib\\site-packages\\pandas\\io\\excel.py:329: FutureWarning: The `sheetname` keyword is deprecated, use `sheet_name` instead\n",
      "  **kwds)\n"
     ]
    },
    {
     "name": "stdout",
     "output_type": "stream",
     "text": [
      "<class 'pandas.core.frame.DataFrame'>\n",
      "RangeIndex: 3147 entries, 0 to 3146\n",
      "Data columns (total 7 columns):\n",
      "Stock Symbol             3147 non-null object\n",
      "Company Name             3147 non-null object\n",
      "Last Sale                3079 non-null float64\n",
      "Market Capitalization    3147 non-null float64\n",
      "IPO Year                 1361 non-null float64\n",
      "Sector                   2177 non-null object\n",
      "Industry                 2177 non-null object\n",
      "dtypes: float64(3), object(4)\n",
      "memory usage: 172.2+ KB\n",
      "<class 'pandas.core.frame.DataFrame'>\n",
      "RangeIndex: 3167 entries, 0 to 3166\n",
      "Data columns (total 7 columns):\n",
      "Stock Symbol             3167 non-null object\n",
      "Company Name             3167 non-null object\n",
      "Last Sale                3165 non-null float64\n",
      "Market Capitalization    3167 non-null float64\n",
      "IPO Year                 1386 non-null float64\n",
      "Sector                   2767 non-null object\n",
      "Industry                 2767 non-null object\n",
      "dtypes: float64(3), object(4)\n",
      "memory usage: 173.3+ KB\n"
     ]
    }
   ],
   "source": [
    "# Import the NYSE and NASDAQ listings\n",
    "nyse = pd.read_excel('C:\\\\Users\\\\Gaya\\\\Desktop\\\\PYTHON\\Data\\\\listings.xlsx', sheetname='nyse', na_values='n/a')\n",
    "nasdaq = pd.read_excel('C:\\\\Users\\\\Gaya\\\\Desktop\\\\PYTHON\\Data\\\\listings.xlsx', sheetname='nasdaq', na_values='n/a')\n",
    "\n",
    "# Inspect nyse and nasdaq\n",
    "nyse.info()\n",
    "nasdaq.info()\n",
    "\n",
    "# Add Exchange reference columns\n",
    "nyse['Exchange'] = 'NYSE'\n",
    "nasdaq['Exchange'] = 'NASDAQ'\n",
    "\n",
    "# Concatenate DataFrames  \n",
    "combined_listings = pd.concat([nyse, nasdaq]) "
   ]
  },
  {
   "cell_type": "markdown",
   "metadata": {},
   "source": [
    "## loop to create pd.dataframe containing all sheets from excel file"
   ]
  },
  {
   "cell_type": "code",
   "execution_count": 3,
   "metadata": {},
   "outputs": [
    {
     "name": "stdout",
     "output_type": "stream",
     "text": [
      "<class 'pandas.core.frame.DataFrame'>\n",
      "Int64Index: 6674 entries, 0 to 3146\n",
      "Data columns (total 8 columns):\n",
      "Stock Symbol             6674 non-null object\n",
      "Company Name             6674 non-null object\n",
      "Last Sale                6590 non-null float64\n",
      "Market Capitalization    6674 non-null float64\n",
      "IPO Year                 2852 non-null float64\n",
      "Sector                   5182 non-null object\n",
      "Industry                 5182 non-null object\n",
      "Exchange                 6674 non-null object\n",
      "dtypes: float64(3), object(5)\n",
      "memory usage: 469.3+ KB\n"
     ]
    },
    {
     "name": "stderr",
     "output_type": "stream",
     "text": [
      "C:\\Users\\Gaya\\Anaconda3\\lib\\site-packages\\pandas\\io\\excel.py:329: FutureWarning: The `sheetname` keyword is deprecated, use `sheet_name` instead\n",
      "  **kwds)\n"
     ]
    }
   ],
   "source": [
    "# Create the pd.ExcelFile() object\n",
    "xls = pd.ExcelFile('C:\\\\Users\\\\Gaya\\\\Desktop\\\\PYTHON\\Data\\\\listings.xlsx')\n",
    "\n",
    "# Extract the sheet names from xls\n",
    "exchanges = xls.sheet_names\n",
    "\n",
    "# Create an empty list: listings\n",
    "\n",
    "listings=[]\n",
    "# Import the data\n",
    "for exchange in exchanges:\n",
    "    listing = pd.read_excel(xls, sheetname=exchange, na_values='n/a')\n",
    "    listing['Exchange'] = exchange\n",
    "    listings.append(listing)\n",
    "\n",
    "# Concatenate the listings: listing_data\n",
    "listing_data = pd.concat(listings)\n",
    "\n",
    "# Inspect the results\n",
    "listing_data.info()"
   ]
  },
  {
   "cell_type": "markdown",
   "metadata": {},
   "source": [
    "## We can filter data based on particular value of the variable"
   ]
  },
  {
   "cell_type": "code",
   "execution_count": null,
   "metadata": {},
   "outputs": [],
   "source": [
    "# Select companies in Consumer Services\n",
    "consumer_services = listings[listings.Sector == \"Consumer Services\"]\n",
    "\n",
    "# Sort consumer_services by market cap\n",
    "consumer_services2 = consumer_services.sort_values(\"Market Capitalization\", ascending=False)# Get ticker of the largest consumer services company listed after 1997\n",
    "\n",
    "# Sort by multiple conditions and assigning new indexes\n",
    "ticker = listings.loc[(listings.Sector == \"Consumer Services\") & (listings[\"IPO Year\"] > 1998), 'Market Capitalization'].idxmax()\n"
   ]
  },
  {
   "cell_type": "markdown",
   "metadata": {},
   "source": [
    "## getting multiple stock prices, converting pandas.panel to pandas multiline index dataframe.."
   ]
  },
  {
   "cell_type": "code",
   "execution_count": null,
   "metadata": {},
   "outputs": [],
   "source": [
    "# Set Stock Symbol as the index\n",
    "listings = listings_ss.set_index('Stock Symbol')\n",
    "\n",
    "# Get ticker of 3 largest finance companies\n",
    "top_3_companies = listings_ss.loc[listings_ss.Sector=='Finance','Market Capitalization'].nlargest(n=3)\n",
    "\n",
    "# Convert index to list\n",
    "top_3_tickers = top_3_companies.index.tolist()\n",
    "\n",
    "# Set start date\n",
    "start = date(2012,1,1)\n",
    "\n",
    "# Import stock data\n",
    "data = DataReader(top_3_tickers,'google',start)\n",
    "data2 = data.to_frame()\n",
    "\n",
    "# Unstack and inspect result\n",
    "data2['Close'].unstack().info()"
   ]
  },
  {
   "cell_type": "markdown",
   "metadata": {},
   "source": [
    "## Get stock prices with pandas_datareader library !!!Problems with this code from yahoo and google!!!! Nevertheless other sources are working with this code and you can find sources by the following link>>>> https://pandas-datareader.readthedocs.io/en/latest/remote_data.html#google-finance"
   ]
  },
  {
   "cell_type": "code",
   "execution_count": 29,
   "metadata": {},
   "outputs": [
    {
     "name": "stdout",
     "output_type": "stream",
     "text": [
      "5y\n"
     ]
    },
    {
     "data": {
      "image/png": "[encoded data removed]",
      "text/plain": [
       "<Figure size 432x288 with 1 Axes>"
      ]
     },
     "metadata": {},
     "output_type": "display_data"
    }
   ],
   "source": [
    "# Import DataReader\n",
    "import pandas as pd\n",
    "pd.core.common.is_list_like = pd.api.types.is_list_like # setting appropriate file i.e. version problem\n",
    "from pandas_datareader.data import DataReader\n",
    "import pandas_datareader.data as web\n",
    "\n",
    "from datetime import datetime\n",
    "\n",
    "start = datetime(2015, 2, 9)\n",
    "\n",
    "end = datetime(2018, 10, 7)\n",
    "\n",
    "ticker='AAPL'\n",
    "f = web.DataReader(ticker, 'iex', start, end)\n",
    "\n",
    "f.tail()\n",
    "f['close'].plot(title='Closing Price of '+ticker)\n",
    "plt.show()"
   ]
  },
  {
   "cell_type": "markdown",
   "metadata": {},
   "source": [
    "## For commodities bonds etc. we need to go to https://fred.stlouisfed.org/, where we should find ticker code... it is specific for any data... hence 1. we need to visit fred website2. choose data.3. take ticker code4.parse it to python code and get data"
   ]
  },
  {
   "cell_type": "markdown",
   "metadata": {},
   "source": [
    "### Commodity prices from fred"
   ]
  },
  {
   "cell_type": "code",
   "execution_count": 30,
   "metadata": {},
   "outputs": [
    {
     "name": "stdout",
     "output_type": "stream",
     "text": [
      "<class 'pandas.core.frame.DataFrame'>\n",
      "DatetimeIndex: 13180 entries, 1968-04-01 to 2018-10-05\n",
      "Data columns (total 1 columns):\n",
      "GOLDAMGBD228NLBM    12774 non-null float64\n",
      "dtypes: float64(1)\n",
      "memory usage: 205.9 KB\n"
     ]
    },
    {
     "data": {
      "image/png": "[encoded data removed]",
      "text/plain": [
       "<Figure size 432x288 with 1 Axes>"
      ]
     },
     "metadata": {},
     "output_type": "display_data"
    }
   ],
   "source": [
    "# Import DataReader\n",
    "import pandas as pd\n",
    "pd.core.common.is_list_like = pd.api.types.is_list_like # setting appropriate file i.e. version problem\n",
    "from pandas_datareader.data import DataReader\n",
    "import matplotlib.pyplot as plt\n",
    "# Set start date\n",
    "start = date(1968,1,1)\n",
    "\n",
    "series = 'GOLDAMGBD228NLBM' ### Here is that code\n",
    "\n",
    "# Import the data\n",
    "gold_price = DataReader(series, \"fred\", start=start)\n",
    "\n",
    "# Inspect the price of gold\n",
    "gold_price.info()\n",
    "\n",
    "# Plot the price of gold\n",
    "gold_price.plot(title=\"Gold Price\")\n",
    "# Show the plot\n",
    "plt.show()\n"
   ]
  },
  {
   "cell_type": "code",
   "execution_count": 31,
   "metadata": {},
   "outputs": [
    {
     "data": {
      "image/png": "[encoded data removed]",
      "text/plain": [
       "<Figure size 432x288 with 2 Axes>"
      ]
     },
     "metadata": {},
     "output_type": "display_data"
    }
   ],
   "source": [
    "# Set the start date\n",
    "start = date(1950,1,1)\n",
    "\n",
    "# Define the series codes\n",
    "series = ['UNRATE', 'CIVPART']\n",
    "\n",
    "# Import the data\n",
    "econ_data =DataReader(series,\"fred\",start)\n",
    "\n",
    "# Assign new column labels\n",
    "econ_data.columns = [\"Unemployment Rate\",\"Participation Rate\"]\n",
    "\n",
    "# Plot econ_data\n",
    "econ_data.plot(subplots=True,title=\"Labor Market\")\n",
    "\n",
    "# Show the plot\n",
    "plt.show()"
   ]
  },
  {
   "cell_type": "markdown",
   "metadata": {},
   "source": [
    "# Bond and stock performance"
   ]
  },
  {
   "cell_type": "code",
   "execution_count": 34,
   "metadata": {},
   "outputs": [
    {
     "data": {
      "image/png": "[encoded data removed]",
      "text/plain": [
       "<Figure size 432x288 with 2 Axes>"
      ]
     },
     "metadata": {},
     "output_type": "display_data"
    }
   ],
   "source": [
    "# Set the start date\n",
    "start = date(2008,1,1)\n",
    "\n",
    "# Set the series code\n",
    "series = ['BAMLHYH0A0HYM2TRIV', 'SP500']\n",
    "\n",
    "# Import the data\n",
    "data = DataReader(series,\"fred\",start)\n",
    "\n",
    "# Plot the results\n",
    "data.plot(subplots=True,title=\"Performance Comparison\")\n",
    "\n",
    "# Show the plot\n",
    "plt.show()"
   ]
  },
  {
   "cell_type": "markdown",
   "metadata": {},
   "source": [
    "## Summary Stats"
   ]
  },
  {
   "cell_type": "code",
   "execution_count": 13,
   "metadata": {},
   "outputs": [
    {
     "name": "stdout",
     "output_type": "stream",
     "text": [
      "<class 'pandas.core.frame.DataFrame'>\n",
      "RangeIndex: 184 entries, 0 to 183\n",
      "Data columns (total 2 columns):\n",
      "Country              184 non-null object\n",
      "Income per Capita    184 non-null float64\n",
      "dtypes: float64(1), object(1)\n",
      "memory usage: 3.0+ KB\n",
      "               Country  Income per Capita\n",
      "133              Qatar       141542.66280\n",
      "97    Macao SAR, China       111496.62940\n",
      "96          Luxembourg       102051.68030\n",
      "144          Singapore        85382.30227\n",
      "23   Brunei Darussalam        78369.29102\n",
      "                      Country  Income per Capita\n",
      "121                     Niger         955.483324\n",
      "94                    Liberia         835.366935\n",
      "37           Congo, Dem. Rep.         784.365232\n",
      "26                    Burundi         727.150789\n",
      "31   Central African Republic         618.752859\n"
     ]
    }
   ],
   "source": [
    "# Import the data\n",
    "income = pd.read_csv(\"C:\\\\Users\\\\Gaya\\\\Desktop\\\\PYTHON\\\\Data\\\\per_capita_income.csv\")\n",
    "\n",
    "# Inspect the result\n",
    "income.info()\n",
    "\n",
    "# Sort the data by income\n",
    "income = income.sort_values('Income per Capita',ascending=False )\n",
    "\n",
    "# Display the first and last five rows\n",
    "print(income.head(5))\n",
    "print(income.tail(5))"
   ]
  },
  {
   "cell_type": "code",
   "execution_count": 14,
   "metadata": {},
   "outputs": [
    {
     "name": "stdout",
     "output_type": "stream",
     "text": [
      "19469.41956573694\n"
     ]
    }
   ],
   "source": [
    "# Calculate the mean\n",
    "\n",
    "print(income['Income per Capita'].mean())"
   ]
  },
  {
   "cell_type": "code",
   "execution_count": 15,
   "metadata": {},
   "outputs": [
    {
     "name": "stdout",
     "output_type": "stream",
     "text": [
      "11620.932519999998\n"
     ]
    }
   ],
   "source": [
    "\n",
    "# Calculate the median\n",
    "print(income[\"Income per Capita\"].median())\n"
   ]
  },
  {
   "cell_type": "code",
   "execution_count": 16,
   "metadata": {},
   "outputs": [],
   "source": [
    "\n",
    "# Create the new column\n",
    "income['Income per Capita (,000)'] = income[\"Income per Capita\"]//1000\n"
   ]
  },
  {
   "cell_type": "code",
   "execution_count": 17,
   "metadata": {},
   "outputs": [
    {
     "data": {
      "text/plain": [
       "0    1.0\n",
       "dtype: float64"
      ]
     },
     "execution_count": 17,
     "metadata": {},
     "output_type": "execute_result"
    }
   ],
   "source": [
    "\n",
    "# Calculate the mode of the new column\n",
    "income['Income per Capita (,000)'].mode()"
   ]
  },
  {
   "cell_type": "code",
   "execution_count": 18,
   "metadata": {},
   "outputs": [
    {
     "name": "stdout",
     "output_type": "stream",
     "text": [
      "21966.861207206075\n"
     ]
    }
   ],
   "source": [
    "\n",
    "# Calculate the standard deviation\n",
    "print(income[\"Income per Capita\"].std())\n"
   ]
  },
  {
   "cell_type": "code",
   "execution_count": 19,
   "metadata": {},
   "outputs": [
    {
     "name": "stdout",
     "output_type": "stream",
     "text": [
      "482542991.2966551\n"
     ]
    }
   ],
   "source": [
    "# Calculate the variance\n",
    "print(income[\"Income per Capita\"].var())\n"
   ]
  },
  {
   "cell_type": "code",
   "execution_count": 20,
   "metadata": {},
   "outputs": [
    {
     "ename": "NameError",
     "evalue": "name 'np' is not defined",
     "output_type": "error",
     "traceback": [
      "\u001b[1;31m---------------------------------------------------------------------------\u001b[0m",
      "\u001b[1;31mNameError\u001b[0m                                 Traceback (most recent call last)",
      "\u001b[1;32m<ipython-input-20-3a88ce196843>\u001b[0m in \u001b[0;36m<module>\u001b[1;34m()\u001b[0m\n\u001b[0;32m      1\u001b[0m \u001b[1;31m# Generate range of deciles\u001b[0m\u001b[1;33m\u001b[0m\u001b[1;33m\u001b[0m\u001b[0m\n\u001b[1;32m----> 2\u001b[1;33m \u001b[0mquantiles\u001b[0m \u001b[1;33m=\u001b[0m \u001b[0mnp\u001b[0m\u001b[1;33m.\u001b[0m\u001b[0marange\u001b[0m\u001b[1;33m(\u001b[0m\u001b[1;36m0.1\u001b[0m\u001b[1;33m,\u001b[0m\u001b[1;36m0.91\u001b[0m\u001b[1;33m,\u001b[0m\u001b[1;36m0.1\u001b[0m\u001b[1;33m)\u001b[0m\u001b[1;33m\u001b[0m\u001b[0m\n\u001b[0m\u001b[0;32m      3\u001b[0m \u001b[1;33m\u001b[0m\u001b[0m\n\u001b[0;32m      4\u001b[0m \u001b[1;31m# Print them\u001b[0m\u001b[1;33m\u001b[0m\u001b[1;33m\u001b[0m\u001b[0m\n\u001b[0;32m      5\u001b[0m \u001b[0mprint\u001b[0m\u001b[1;33m(\u001b[0m\u001b[0mquantiles\u001b[0m\u001b[1;33m)\u001b[0m\u001b[1;33m\u001b[0m\u001b[0m\n",
      "\u001b[1;31mNameError\u001b[0m: name 'np' is not defined"
     ]
    }
   ],
   "source": [
    "# Generate range of deciles\n",
    "quantiles = np.arange(0.1,0.91,0.1)\n",
    "\n",
    "# Print them\n",
    "print(quantiles)\n",
    "\n",
    "# Calculate deciles for 'Income per Capita'\n",
    "deciles = income['Income per Capita'].quantile(quantiles)\n",
    "\n",
    "# Print them\n",
    "print(deciles)\n",
    "\n",
    "# Plot deciles as a bar chart\n",
    "deciles.plot(kind='bar', title='Global Income per Capita - Deciles')\n",
    "\n",
    "# Make sure to use the tight layout!\n",
    "plt.tight_layout()\n",
    "\n",
    "# Show the plot\n",
    "plt.show()"
   ]
  },
  {
   "cell_type": "markdown",
   "metadata": {},
   "source": [
    "### We can get all useful statistics by calling pd_df.describe()"
   ]
  },
  {
   "cell_type": "code",
   "execution_count": 21,
   "metadata": {},
   "outputs": [
    {
     "data": {
      "text/html": [
       "<div>\n",
       "<style scoped>\n",
       "    .dataframe tbody tr th:only-of-type {\n",
       "        vertical-align: middle;\n",
       "    }\n",
       "\n",
       "    .dataframe tbody tr th {\n",
       "        vertical-align: top;\n",
       "    }\n",
       "\n",
       "    .dataframe thead th {\n",
       "        text-align: right;\n",
       "    }\n",
       "</style>\n",
       "<table border=\"1\" class=\"dataframe\">\n",
       "  <thead>\n",
       "    <tr style=\"text-align: right;\">\n",
       "      <th></th>\n",
       "      <th>Income per Capita</th>\n",
       "      <th>Income per Capita (,000)</th>\n",
       "    </tr>\n",
       "  </thead>\n",
       "  <tbody>\n",
       "    <tr>\n",
       "      <th>count</th>\n",
       "      <td>184.000000</td>\n",
       "      <td>184.000000</td>\n",
       "    </tr>\n",
       "    <tr>\n",
       "      <th>mean</th>\n",
       "      <td>19469.419566</td>\n",
       "      <td>18.967391</td>\n",
       "    </tr>\n",
       "    <tr>\n",
       "      <th>std</th>\n",
       "      <td>21966.861207</td>\n",
       "      <td>21.975869</td>\n",
       "    </tr>\n",
       "    <tr>\n",
       "      <th>min</th>\n",
       "      <td>618.752859</td>\n",
       "      <td>0.000000</td>\n",
       "    </tr>\n",
       "    <tr>\n",
       "      <th>25%</th>\n",
       "      <td>3922.358940</td>\n",
       "      <td>3.000000</td>\n",
       "    </tr>\n",
       "    <tr>\n",
       "      <th>50%</th>\n",
       "      <td>11620.932520</td>\n",
       "      <td>11.000000</td>\n",
       "    </tr>\n",
       "    <tr>\n",
       "      <th>75%</th>\n",
       "      <td>26558.754670</td>\n",
       "      <td>26.000000</td>\n",
       "    </tr>\n",
       "    <tr>\n",
       "      <th>max</th>\n",
       "      <td>141542.662800</td>\n",
       "      <td>141.000000</td>\n",
       "    </tr>\n",
       "  </tbody>\n",
       "</table>\n",
       "</div>"
      ],
      "text/plain": [
       "       Income per Capita  Income per Capita (,000)\n",
       "count         184.000000                184.000000\n",
       "mean        19469.419566                 18.967391\n",
       "std         21966.861207                 21.975869\n",
       "min           618.752859                  0.000000\n",
       "25%          3922.358940                  3.000000\n",
       "50%         11620.932520                 11.000000\n",
       "75%         26558.754670                 26.000000\n",
       "max        141542.662800                141.000000"
      ]
     },
     "execution_count": 21,
     "metadata": {},
     "output_type": "execute_result"
    }
   ],
   "source": [
    "income.describe(percentiles=[.25, .5, .75])"
   ]
  },
  {
   "cell_type": "code",
   "execution_count": 22,
   "metadata": {},
   "outputs": [
    {
     "data": {
      "text/html": [
       "<div>\n",
       "<style scoped>\n",
       "    .dataframe tbody tr th:only-of-type {\n",
       "        vertical-align: middle;\n",
       "    }\n",
       "\n",
       "    .dataframe tbody tr th {\n",
       "        vertical-align: top;\n",
       "    }\n",
       "\n",
       "    .dataframe thead th {\n",
       "        text-align: right;\n",
       "    }\n",
       "</style>\n",
       "<table border=\"1\" class=\"dataframe\">\n",
       "  <thead>\n",
       "    <tr style=\"text-align: right;\">\n",
       "      <th></th>\n",
       "      <th>Country</th>\n",
       "      <th>Income per Capita</th>\n",
       "      <th>Income per Capita (,000)</th>\n",
       "    </tr>\n",
       "  </thead>\n",
       "  <tbody>\n",
       "    <tr>\n",
       "      <th>133</th>\n",
       "      <td>Qatar</td>\n",
       "      <td>141542.662800</td>\n",
       "      <td>141.0</td>\n",
       "    </tr>\n",
       "    <tr>\n",
       "      <th>97</th>\n",
       "      <td>Macao SAR, China</td>\n",
       "      <td>111496.629400</td>\n",
       "      <td>111.0</td>\n",
       "    </tr>\n",
       "    <tr>\n",
       "      <th>96</th>\n",
       "      <td>Luxembourg</td>\n",
       "      <td>102051.680300</td>\n",
       "      <td>102.0</td>\n",
       "    </tr>\n",
       "    <tr>\n",
       "      <th>144</th>\n",
       "      <td>Singapore</td>\n",
       "      <td>85382.302270</td>\n",
       "      <td>85.0</td>\n",
       "    </tr>\n",
       "    <tr>\n",
       "      <th>23</th>\n",
       "      <td>Brunei Darussalam</td>\n",
       "      <td>78369.291020</td>\n",
       "      <td>78.0</td>\n",
       "    </tr>\n",
       "    <tr>\n",
       "      <th>88</th>\n",
       "      <td>Kuwait</td>\n",
       "      <td>74645.482460</td>\n",
       "      <td>74.0</td>\n",
       "    </tr>\n",
       "    <tr>\n",
       "      <th>173</th>\n",
       "      <td>United Arab Emirates</td>\n",
       "      <td>69970.815340</td>\n",
       "      <td>69.0</td>\n",
       "    </tr>\n",
       "    <tr>\n",
       "      <th>77</th>\n",
       "      <td>Ireland</td>\n",
       "      <td>68513.974070</td>\n",
       "      <td>68.0</td>\n",
       "    </tr>\n",
       "    <tr>\n",
       "      <th>159</th>\n",
       "      <td>Switzerland</td>\n",
       "      <td>62557.491310</td>\n",
       "      <td>62.0</td>\n",
       "    </tr>\n",
       "    <tr>\n",
       "      <th>123</th>\n",
       "      <td>Norway</td>\n",
       "      <td>62083.862570</td>\n",
       "      <td>62.0</td>\n",
       "    </tr>\n",
       "    <tr>\n",
       "      <th>71</th>\n",
       "      <td>Hong Kong SAR, China</td>\n",
       "      <td>56923.490540</td>\n",
       "      <td>56.0</td>\n",
       "    </tr>\n",
       "    <tr>\n",
       "      <th>175</th>\n",
       "      <td>United States</td>\n",
       "      <td>56115.718430</td>\n",
       "      <td>56.0</td>\n",
       "    </tr>\n",
       "    <tr>\n",
       "      <th>139</th>\n",
       "      <td>Saudi Arabia</td>\n",
       "      <td>53538.790430</td>\n",
       "      <td>53.0</td>\n",
       "    </tr>\n",
       "    <tr>\n",
       "      <th>118</th>\n",
       "      <td>Netherlands</td>\n",
       "      <td>49587.005190</td>\n",
       "      <td>49.0</td>\n",
       "    </tr>\n",
       "    <tr>\n",
       "      <th>8</th>\n",
       "      <td>Austria</td>\n",
       "      <td>49429.555550</td>\n",
       "      <td>49.0</td>\n",
       "    </tr>\n",
       "    <tr>\n",
       "      <th>45</th>\n",
       "      <td>Denmark</td>\n",
       "      <td>49020.394510</td>\n",
       "      <td>49.0</td>\n",
       "    </tr>\n",
       "    <tr>\n",
       "      <th>61</th>\n",
       "      <td>Germany</td>\n",
       "      <td>48041.701410</td>\n",
       "      <td>48.0</td>\n",
       "    </tr>\n",
       "    <tr>\n",
       "      <th>158</th>\n",
       "      <td>Sweden</td>\n",
       "      <td>47861.965290</td>\n",
       "      <td>47.0</td>\n",
       "    </tr>\n",
       "    <tr>\n",
       "      <th>73</th>\n",
       "      <td>Iceland</td>\n",
       "      <td>47717.237420</td>\n",
       "      <td>47.0</td>\n",
       "    </tr>\n",
       "    <tr>\n",
       "      <th>11</th>\n",
       "      <td>Bahrain</td>\n",
       "      <td>46586.068700</td>\n",
       "      <td>46.0</td>\n",
       "    </tr>\n",
       "    <tr>\n",
       "      <th>7</th>\n",
       "      <td>Australia</td>\n",
       "      <td>46270.799340</td>\n",
       "      <td>46.0</td>\n",
       "    </tr>\n",
       "    <tr>\n",
       "      <th>15</th>\n",
       "      <td>Belgium</td>\n",
       "      <td>45757.457810</td>\n",
       "      <td>45.0</td>\n",
       "    </tr>\n",
       "    <tr>\n",
       "      <th>30</th>\n",
       "      <td>Canada</td>\n",
       "      <td>44261.838000</td>\n",
       "      <td>44.0</td>\n",
       "    </tr>\n",
       "    <tr>\n",
       "      <th>56</th>\n",
       "      <td>Finland</td>\n",
       "      <td>42309.389270</td>\n",
       "      <td>42.0</td>\n",
       "    </tr>\n",
       "    <tr>\n",
       "      <th>174</th>\n",
       "      <td>United Kingdom</td>\n",
       "      <td>41801.049480</td>\n",
       "      <td>41.0</td>\n",
       "    </tr>\n",
       "    <tr>\n",
       "      <th>57</th>\n",
       "      <td>France</td>\n",
       "      <td>41016.651500</td>\n",
       "      <td>41.0</td>\n",
       "    </tr>\n",
       "    <tr>\n",
       "      <th>81</th>\n",
       "      <td>Japan</td>\n",
       "      <td>40763.403700</td>\n",
       "      <td>40.0</td>\n",
       "    </tr>\n",
       "    <tr>\n",
       "      <th>52</th>\n",
       "      <td>Equatorial Guinea</td>\n",
       "      <td>40718.829680</td>\n",
       "      <td>40.0</td>\n",
       "    </tr>\n",
       "    <tr>\n",
       "      <th>124</th>\n",
       "      <td>Oman</td>\n",
       "      <td>39971.092730</td>\n",
       "      <td>39.0</td>\n",
       "    </tr>\n",
       "    <tr>\n",
       "      <th>119</th>\n",
       "      <td>New Zealand</td>\n",
       "      <td>37575.930550</td>\n",
       "      <td>37.0</td>\n",
       "    </tr>\n",
       "    <tr>\n",
       "      <th>...</th>\n",
       "      <td>...</td>\n",
       "      <td>...</td>\n",
       "      <td>...</td>\n",
       "    </tr>\n",
       "    <tr>\n",
       "      <th>117</th>\n",
       "      <td>Nepal</td>\n",
       "      <td>2462.074610</td>\n",
       "      <td>2.0</td>\n",
       "    </tr>\n",
       "    <tr>\n",
       "      <th>140</th>\n",
       "      <td>Senegal</td>\n",
       "      <td>2420.794877</td>\n",
       "      <td>2.0</td>\n",
       "    </tr>\n",
       "    <tr>\n",
       "      <th>163</th>\n",
       "      <td>Timor-Leste</td>\n",
       "      <td>2399.014386</td>\n",
       "      <td>2.0</td>\n",
       "    </tr>\n",
       "    <tr>\n",
       "      <th>147</th>\n",
       "      <td>Solomon Islands</td>\n",
       "      <td>2200.934181</td>\n",
       "      <td>2.0</td>\n",
       "    </tr>\n",
       "    <tr>\n",
       "      <th>32</th>\n",
       "      <td>Chad</td>\n",
       "      <td>2175.821947</td>\n",
       "      <td>2.0</td>\n",
       "    </tr>\n",
       "    <tr>\n",
       "      <th>17</th>\n",
       "      <td>Benin</td>\n",
       "      <td>2056.700772</td>\n",
       "      <td>2.0</td>\n",
       "    </tr>\n",
       "    <tr>\n",
       "      <th>103</th>\n",
       "      <td>Mali</td>\n",
       "      <td>2028.157518</td>\n",
       "      <td>2.0</td>\n",
       "    </tr>\n",
       "    <tr>\n",
       "      <th>85</th>\n",
       "      <td>Kiribati</td>\n",
       "      <td>1994.767601</td>\n",
       "      <td>1.0</td>\n",
       "    </tr>\n",
       "    <tr>\n",
       "      <th>0</th>\n",
       "      <td>Afghanistan</td>\n",
       "      <td>1925.165228</td>\n",
       "      <td>1.0</td>\n",
       "    </tr>\n",
       "    <tr>\n",
       "      <th>149</th>\n",
       "      <td>South Sudan</td>\n",
       "      <td>1853.798627</td>\n",
       "      <td>1.0</td>\n",
       "    </tr>\n",
       "    <tr>\n",
       "      <th>171</th>\n",
       "      <td>Uganda</td>\n",
       "      <td>1850.992410</td>\n",
       "      <td>1.0</td>\n",
       "    </tr>\n",
       "    <tr>\n",
       "      <th>183</th>\n",
       "      <td>Zimbabwe</td>\n",
       "      <td>1786.583862</td>\n",
       "      <td>1.0</td>\n",
       "    </tr>\n",
       "    <tr>\n",
       "      <th>136</th>\n",
       "      <td>Rwanda</td>\n",
       "      <td>1762.314126</td>\n",
       "      <td>1.0</td>\n",
       "    </tr>\n",
       "    <tr>\n",
       "      <th>69</th>\n",
       "      <td>Haiti</td>\n",
       "      <td>1757.435678</td>\n",
       "      <td>1.0</td>\n",
       "    </tr>\n",
       "    <tr>\n",
       "      <th>25</th>\n",
       "      <td>Burkina Faso</td>\n",
       "      <td>1696.025601</td>\n",
       "      <td>1.0</td>\n",
       "    </tr>\n",
       "    <tr>\n",
       "      <th>59</th>\n",
       "      <td>Gambia, The</td>\n",
       "      <td>1679.684387</td>\n",
       "      <td>1.0</td>\n",
       "    </tr>\n",
       "    <tr>\n",
       "      <th>54</th>\n",
       "      <td>Ethiopia</td>\n",
       "      <td>1628.923132</td>\n",
       "      <td>1.0</td>\n",
       "    </tr>\n",
       "    <tr>\n",
       "      <th>143</th>\n",
       "      <td>Sierra Leone</td>\n",
       "      <td>1569.318744</td>\n",
       "      <td>1.0</td>\n",
       "    </tr>\n",
       "    <tr>\n",
       "      <th>36</th>\n",
       "      <td>Comoros</td>\n",
       "      <td>1483.440932</td>\n",
       "      <td>1.0</td>\n",
       "    </tr>\n",
       "    <tr>\n",
       "      <th>99</th>\n",
       "      <td>Madagascar</td>\n",
       "      <td>1465.344818</td>\n",
       "      <td>1.0</td>\n",
       "    </tr>\n",
       "    <tr>\n",
       "      <th>164</th>\n",
       "      <td>Togo</td>\n",
       "      <td>1460.344910</td>\n",
       "      <td>1.0</td>\n",
       "    </tr>\n",
       "    <tr>\n",
       "      <th>67</th>\n",
       "      <td>Guinea-Bissau</td>\n",
       "      <td>1455.803634</td>\n",
       "      <td>1.0</td>\n",
       "    </tr>\n",
       "    <tr>\n",
       "      <th>66</th>\n",
       "      <td>Guinea</td>\n",
       "      <td>1208.986093</td>\n",
       "      <td>1.0</td>\n",
       "    </tr>\n",
       "    <tr>\n",
       "      <th>113</th>\n",
       "      <td>Mozambique</td>\n",
       "      <td>1192.175329</td>\n",
       "      <td>1.0</td>\n",
       "    </tr>\n",
       "    <tr>\n",
       "      <th>100</th>\n",
       "      <td>Malawi</td>\n",
       "      <td>1183.605235</td>\n",
       "      <td>1.0</td>\n",
       "    </tr>\n",
       "    <tr>\n",
       "      <th>121</th>\n",
       "      <td>Niger</td>\n",
       "      <td>955.483324</td>\n",
       "      <td>0.0</td>\n",
       "    </tr>\n",
       "    <tr>\n",
       "      <th>94</th>\n",
       "      <td>Liberia</td>\n",
       "      <td>835.366935</td>\n",
       "      <td>0.0</td>\n",
       "    </tr>\n",
       "    <tr>\n",
       "      <th>37</th>\n",
       "      <td>Congo, Dem. Rep.</td>\n",
       "      <td>784.365232</td>\n",
       "      <td>0.0</td>\n",
       "    </tr>\n",
       "    <tr>\n",
       "      <th>26</th>\n",
       "      <td>Burundi</td>\n",
       "      <td>727.150789</td>\n",
       "      <td>0.0</td>\n",
       "    </tr>\n",
       "    <tr>\n",
       "      <th>31</th>\n",
       "      <td>Central African Republic</td>\n",
       "      <td>618.752859</td>\n",
       "      <td>0.0</td>\n",
       "    </tr>\n",
       "  </tbody>\n",
       "</table>\n",
       "<p>184 rows × 3 columns</p>\n",
       "</div>"
      ],
      "text/plain": [
       "                      Country  Income per Capita  Income per Capita (,000)\n",
       "133                     Qatar      141542.662800                     141.0\n",
       "97           Macao SAR, China      111496.629400                     111.0\n",
       "96                 Luxembourg      102051.680300                     102.0\n",
       "144                 Singapore       85382.302270                      85.0\n",
       "23          Brunei Darussalam       78369.291020                      78.0\n",
       "88                     Kuwait       74645.482460                      74.0\n",
       "173      United Arab Emirates       69970.815340                      69.0\n",
       "77                    Ireland       68513.974070                      68.0\n",
       "159               Switzerland       62557.491310                      62.0\n",
       "123                    Norway       62083.862570                      62.0\n",
       "71       Hong Kong SAR, China       56923.490540                      56.0\n",
       "175             United States       56115.718430                      56.0\n",
       "139              Saudi Arabia       53538.790430                      53.0\n",
       "118               Netherlands       49587.005190                      49.0\n",
       "8                     Austria       49429.555550                      49.0\n",
       "45                    Denmark       49020.394510                      49.0\n",
       "61                    Germany       48041.701410                      48.0\n",
       "158                    Sweden       47861.965290                      47.0\n",
       "73                    Iceland       47717.237420                      47.0\n",
       "11                    Bahrain       46586.068700                      46.0\n",
       "7                   Australia       46270.799340                      46.0\n",
       "15                    Belgium       45757.457810                      45.0\n",
       "30                     Canada       44261.838000                      44.0\n",
       "56                    Finland       42309.389270                      42.0\n",
       "174            United Kingdom       41801.049480                      41.0\n",
       "57                     France       41016.651500                      41.0\n",
       "81                      Japan       40763.403700                      40.0\n",
       "52          Equatorial Guinea       40718.829680                      40.0\n",
       "124                      Oman       39971.092730                      39.0\n",
       "119               New Zealand       37575.930550                      37.0\n",
       "..                        ...                ...                       ...\n",
       "117                     Nepal        2462.074610                       2.0\n",
       "140                   Senegal        2420.794877                       2.0\n",
       "163               Timor-Leste        2399.014386                       2.0\n",
       "147           Solomon Islands        2200.934181                       2.0\n",
       "32                       Chad        2175.821947                       2.0\n",
       "17                      Benin        2056.700772                       2.0\n",
       "103                      Mali        2028.157518                       2.0\n",
       "85                   Kiribati        1994.767601                       1.0\n",
       "0                 Afghanistan        1925.165228                       1.0\n",
       "149               South Sudan        1853.798627                       1.0\n",
       "171                    Uganda        1850.992410                       1.0\n",
       "183                  Zimbabwe        1786.583862                       1.0\n",
       "136                    Rwanda        1762.314126                       1.0\n",
       "69                      Haiti        1757.435678                       1.0\n",
       "25               Burkina Faso        1696.025601                       1.0\n",
       "59                Gambia, The        1679.684387                       1.0\n",
       "54                   Ethiopia        1628.923132                       1.0\n",
       "143              Sierra Leone        1569.318744                       1.0\n",
       "36                    Comoros        1483.440932                       1.0\n",
       "99                 Madagascar        1465.344818                       1.0\n",
       "164                      Togo        1460.344910                       1.0\n",
       "67              Guinea-Bissau        1455.803634                       1.0\n",
       "66                     Guinea        1208.986093                       1.0\n",
       "113                Mozambique        1192.175329                       1.0\n",
       "100                    Malawi        1183.605235                       1.0\n",
       "121                     Niger         955.483324                       0.0\n",
       "94                    Liberia         835.366935                       0.0\n",
       "37           Congo, Dem. Rep.         784.365232                       0.0\n",
       "26                    Burundi         727.150789                       0.0\n",
       "31   Central African Republic         618.752859                       0.0\n",
       "\n",
       "[184 rows x 3 columns]"
      ]
     },
     "execution_count": 22,
     "metadata": {},
     "output_type": "execute_result"
    }
   ],
   "source": [
    "income.sort_values('Income per Capita',ascending=False)"
   ]
  },
  {
   "cell_type": "code",
   "execution_count": 23,
   "metadata": {},
   "outputs": [
    {
     "data": {
      "text/plain": [
       "74    5516.356275\n",
       "Name: Income per Capita, dtype: float64"
      ]
     },
     "execution_count": 23,
     "metadata": {},
     "output_type": "execute_result"
    }
   ],
   "source": [
    "income['Income per Capita'].median()-income[income.Country=='India']['Income per Capita']"
   ]
  },
  {
   "cell_type": "code",
   "execution_count": 24,
   "metadata": {},
   "outputs": [
    {
     "data": {
      "text/plain": [
       "Income per Capita           32517.693902\n",
       "Income per Capita (,000)       31.800000\n",
       "Name: 0.8, dtype: float64"
      ]
     },
     "execution_count": 24,
     "metadata": {},
     "output_type": "execute_result"
    }
   ],
   "source": [
    "income.quantile(0.8)"
   ]
  },
  {
   "cell_type": "code",
   "execution_count": 25,
   "metadata": {},
   "outputs": [
    {
     "name": "stdout",
     "output_type": "stream",
     "text": [
      "       Income per Capita  Income per Capita (,000)\n",
      "count         184.000000                184.000000\n",
      "mean        19469.419566                 18.967391\n",
      "std         21966.861207                 21.975869\n",
      "min           618.752859                  0.000000\n",
      "25%          3922.358940                  3.000000\n",
      "50%         11620.932520                 11.000000\n",
      "75%         26558.754670                 26.000000\n",
      "max        141542.662800                141.000000\n"
     ]
    },
    {
     "name": "stderr",
     "output_type": "stream",
     "text": [
      "C:\\Users\\Gaya\\Anaconda3\\lib\\site-packages\\matplotlib\\axes\\_axes.py:6462: UserWarning: The 'normed' kwarg is deprecated, and has been replaced by the 'density' kwarg.\n",
      "  warnings.warn(\"The 'normed' kwarg is deprecated, and has been \"\n"
     ]
    },
    {
     "data": {
      "image/png": "[encoded data removed]",
      "text/plain": [
       "<Figure size 432x288 with 1 Axes>"
      ]
     },
     "metadata": {},
     "output_type": "display_data"
    },
    {
     "name": "stderr",
     "output_type": "stream",
     "text": [
      "C:\\Users\\Gaya\\Anaconda3\\lib\\site-packages\\matplotlib\\axes\\_axes.py:6462: UserWarning: The 'normed' kwarg is deprecated, and has been replaced by the 'density' kwarg.\n",
      "  warnings.warn(\"The 'normed' kwarg is deprecated, and has been \"\n"
     ]
    },
    {
     "data": {
      "image/png": "[encoded data removed]",
      "text/plain": [
       "<Figure size 432x288 with 1 Axes>"
      ]
     },
     "metadata": {},
     "output_type": "display_data"
    },
    {
     "name": "stderr",
     "output_type": "stream",
     "text": [
      "C:\\Users\\Gaya\\Anaconda3\\lib\\site-packages\\matplotlib\\axes\\_axes.py:6462: UserWarning: The 'normed' kwarg is deprecated, and has been replaced by the 'density' kwarg.\n",
      "  warnings.warn(\"The 'normed' kwarg is deprecated, and has been \"\n"
     ]
    },
    {
     "data": {
      "image/png": "[encoded data removed]",
      "text/plain": [
       "<Figure size 432x288 with 1 Axes>"
      ]
     },
     "metadata": {},
     "output_type": "display_data"
    }
   ],
   "source": [
    "# Import seaborn\n",
    "import seaborn as sns\n",
    "\n",
    "\n",
    "# Import matplotlib\n",
    "import matplotlib.pyplot as plt\n",
    "\n",
    "# Print the summary statistics for income\n",
    "print(income.describe())\n",
    "\n",
    "# Plot a basic histogram of income per capita\n",
    "sns.distplot(income['Income per Capita'])\n",
    "\n",
    "# Show the plot\n",
    "plt.show()\n",
    "\n",
    "sns.distplot(income['Income per Capita'], bins=50, kde=True)\n",
    "# Plot a rugplot\n",
    "# Show the plot\n",
    "plt.show()\n",
    "sns.distplot(income['Income per Capita'], bins=50, kde=False, rug=True)\n",
    "\n",
    "# Show the plot\n",
    "plt.show()"
   ]
  },
  {
   "cell_type": "code",
   "execution_count": 26,
   "metadata": {},
   "outputs": [
    {
     "data": {
      "image/png": "[encoded data removed]",
      "text/plain": [
       "<Figure size 432x288 with 1 Axes>"
      ]
     },
     "metadata": {},
     "output_type": "display_data"
    }
   ],
   "source": [
    "# Load the file into growth\n",
    "growth = pd.read_csv('C:\\\\Users\\\\Gaya\\\\Desktop\\\\PYTHON\\\\Data\\\\income_growth.csv', parse_dates=['DATE']).set_index('DATE')\n",
    "\n",
    "# Inspect the summary statistics for the growth rates\n",
    "growth.describe()\n",
    "\n",
    "# Iterate over the three columns\n",
    "for column in growth.columns:\n",
    "    sns.distplot(growth[column], hist=False, label=column)\n",
    "    \n",
    "# Show the plot\n",
    "plt.show()"
   ]
  },
  {
   "cell_type": "code",
   "execution_count": 27,
   "metadata": {},
   "outputs": [
    {
     "name": "stderr",
     "output_type": "stream",
     "text": [
      "C:\\Users\\Gaya\\Anaconda3\\lib\\site-packages\\matplotlib\\axes\\_axes.py:6462: UserWarning: The 'normed' kwarg is deprecated, and has been replaced by the 'density' kwarg.\n",
      "  warnings.warn(\"The 'normed' kwarg is deprecated, and has been \"\n"
     ]
    },
    {
     "data": {
      "image/png": "[encoded data removed]",
      "text/plain": [
       "<Figure size 432x288 with 1 Axes>"
      ]
     },
     "metadata": {},
     "output_type": "display_data"
    }
   ],
   "source": [
    "# Create inc_per_capita\n",
    "inc_per_capita = income['Income per Capita']\n",
    "\n",
    "# Filter out incomes above the 95th percentile\n",
    "inc_per_capita = inc_per_capita[inc_per_capita < inc_per_capita.quantile(0.95)]\n",
    "\n",
    "# Plot histogram and assign to ax\n",
    "ax = sns.distplot(inc_per_capita)\n",
    "\n",
    "# Highlight mean\n",
    "ax.axvline(inc_per_capita.mean(), color='b')\n",
    "\n",
    "# Highlight median\n",
    "ax.axvline(inc_per_capita.median(), color='g')\n",
    "\n",
    "# Show the plot\n",
    "plt.show()"
   ]
  },
  {
   "cell_type": "code",
   "execution_count": 28,
   "metadata": {},
   "outputs": [
    {
     "data": {
      "image/png": "[encoded data removed]",
      "text/plain": [
       "<Figure size 432x288 with 1 Axes>"
      ]
     },
     "metadata": {},
     "output_type": "display_data"
    },
    {
     "data": {
      "image/png": "[encoded data removed]",
      "text/plain": [
       "<Figure size 432x288 with 1 Axes>"
      ]
     },
     "metadata": {},
     "output_type": "display_data"
    },
    {
     "data": {
      "image/png": "[encoded data removed]",
      "text/plain": [
       "<Figure size 432x288 with 1 Axes>"
      ]
     },
     "metadata": {},
     "output_type": "display_data"
    }
   ],
   "source": [
    "# Create the list exchanges\n",
    "exchanges = ['amex', 'nasdaq', 'nyse']\n",
    "\n",
    "# Iterate over exchanges then plot and show result\n",
    "for i in range(0,3):\n",
    "    sectors = listings[i].Sector.value_counts()\n",
    "    # Sort in descending order and plot\n",
    "    sectors.sort_values(ascending=False).plot(kind='bar')\n",
    "    #plt.xticks(rotation=40)\n",
    "    # Show the plot\n",
    "    plt.show()\n"
   ]
  },
  {
   "cell_type": "code",
   "execution_count": 29,
   "metadata": {},
   "outputs": [
    {
     "data": {
      "image/png": "[encoded data removed]",
      "text/plain": [
       "<Figure size 432x288 with 1 Axes>"
      ]
     },
     "metadata": {},
     "output_type": "display_data"
    }
   ],
   "source": [
    "# Create lists\n",
    "exchanges = ['amex', 'nasdaq', 'nyse']\n",
    "all_listings = []\n",
    "\n",
    "# Use for loop to create listing_data\n",
    "for i in range(0,3):\n",
    "    all_listings.append(listings[i])\n",
    "    \n",
    "# Combine DataFrames\n",
    "listing_data = pd.concat(all_listings)\n",
    "\n",
    "# Select tech companies\n",
    "tech_companies = listing_data[listing_data.Sector == 'Technology']\n",
    "\n",
    "# Create ipo_years\n",
    "ipo_years = tech_companies['IPO Year']\n",
    "\n",
    "# Drop missing values and convert to int\n",
    "ipo_years = ipo_years.dropna().astype(int)\n",
    "\n",
    "# Count values, sort by year, and create a bar plot\n",
    "ipo_years.value_counts().plot(kind='bar', title='Tech IPOs by Year')\n",
    "\n",
    "# Rotate xticks and show result\n",
    "plt.xticks(rotation=45)\n",
    "\n",
    "# Show the plot\n",
    "plt.show()"
   ]
  },
  {
   "cell_type": "markdown",
   "metadata": {},
   "source": [
    "## Applying groupby() method"
   ]
  },
  {
   "cell_type": "code",
   "execution_count": 11,
   "metadata": {},
   "outputs": [
    {
     "name": "stdout",
     "output_type": "stream",
     "text": [
      "<class 'pandas.core.frame.DataFrame'>\n",
      "RangeIndex: 3147 entries, 0 to 3146\n",
      "Data columns (total 8 columns):\n",
      "Stock Symbol             3147 non-null object\n",
      "Company Name             3147 non-null object\n",
      "Last Sale                3079 non-null float64\n",
      "Market Capitalization    3147 non-null float64\n",
      "IPO Year                 1361 non-null float64\n",
      "Sector                   2177 non-null object\n",
      "Industry                 2177 non-null object\n",
      "Exchange                 3147 non-null object\n",
      "dtypes: float64(3), object(5)\n",
      "memory usage: 196.8+ KB\n"
     ]
    },
    {
     "data": {
      "image/png": "[encoded data removed]",
      "text/plain": [
       "<Figure size 432x288 with 1 Axes>"
      ]
     },
     "metadata": {},
     "output_type": "display_data"
    }
   ],
   "source": [
    "# Inspect NYSE data\n",
    "nyse.info()\n",
    "\n",
    "# Create market_cap_m\n",
    "nyse['market_cap_m'] = nyse['Market Capitalization'].div(1e6)\n",
    "\n",
    "# Drop market cap column\n",
    "nyse = nyse.drop('Market Capitalization', axis=1)\n",
    "\n",
    "# Group nyse by sector\n",
    "mcap_by_sector = nyse.groupby('Sector')\n",
    "\n",
    "# Calculate median\n",
    "median_mcap_by_sector = mcap_by_sector.market_cap_m.median()\n",
    "\n",
    "# Plot and show as horizontal bar chart\n",
    "median_mcap_by_sector.plot(kind='barh', title='NYSE - Median Market Capitalization')\n",
    "\n",
    "# Add the label\n",
    "plt.xlabel('USD mn')\n",
    "\n",
    "# Show the plot\n",
    "plt.show()"
   ]
  },
  {
   "cell_type": "code",
   "execution_count": 13,
   "metadata": {},
   "outputs": [
    {
     "name": "stdout",
     "output_type": "stream",
     "text": [
      "<class 'pandas.core.frame.DataFrame'>\n",
      "Int64Index: 6674 entries, 0 to 3146\n",
      "Data columns (total 8 columns):\n",
      "Stock Symbol             6674 non-null object\n",
      "Company Name             6674 non-null object\n",
      "Last Sale                6590 non-null float64\n",
      "Market Capitalization    6674 non-null float64\n",
      "IPO Year                 2852 non-null float64\n",
      "Sector                   5182 non-null object\n",
      "Industry                 5182 non-null object\n",
      "Exchange                 6674 non-null object\n",
      "dtypes: float64(3), object(5)\n",
      "memory usage: 469.3+ KB\n",
      "     Stock Symbol                                       Company Name  \\\n",
      "0            XXII                            22nd Century Group, Inc   \n",
      "1             FAX              Aberdeen Asia-Pacific Income Fund Inc   \n",
      "2             IAF                 Aberdeen Australia Equity Fund Inc   \n",
      "3              CH                          Aberdeen Chile Fund, Inc.   \n",
      "4  ABE             Aberdeen Emerging Markets Smaller Company Oppo...   \n",
      "\n",
      "   Last Sale  Market Capitalization  IPO Year                 Sector  \\\n",
      "0     1.3300           1.206285e+08       NaN  Consumer Non-Durables   \n",
      "1     5.0000           1.266333e+09    1986.0                    NaN   \n",
      "2     6.1500           1.398653e+08       NaN                    NaN   \n",
      "3     7.2201           6.756346e+07       NaN                    NaN   \n",
      "4    13.3600           1.288430e+08       NaN                    NaN   \n",
      "\n",
      "                Industry Exchange  \n",
      "0  Farming/Seeds/Milling     amex  \n",
      "1                    NaN     amex  \n",
      "2                    NaN     amex  \n",
      "3                    NaN     amex  \n",
      "4                    NaN     amex  \n"
     ]
    },
    {
     "data": {
      "image/png": "[encoded data removed]",
      "text/plain": [
       "<Figure size 432x288 with 1 Axes>"
      ]
     },
     "metadata": {},
     "output_type": "display_data"
    }
   ],
   "source": [
    "# Inspect listings\n",
    "listing_data.info()\n",
    "\n",
    "\n",
    "# Show listings head\n",
    "print(listing_data.head())\n",
    "\n",
    "# Create market_cap_m\n",
    "listing_data['market_cap_m'] = listing_data['Market Capitalization'].div(1e6)\n",
    "\n",
    "# Select companies with IPO after 1985\n",
    "listing_data = listing_data[listing_data['IPO Year'] > 1985]\n",
    "\n",
    "# Drop missing values and convert to integers\n",
    "listing_data['IPO Year'] = listing_data['IPO Year'].dropna().astype(int)\n",
    "\n",
    "# Calculate the median market cap by IPO Year and sort the index\n",
    "ipo_by_year = listing_data.groupby('IPO Year').market_cap_m.median().sort_index()\n",
    "\n",
    "# Plot results as a bar chart\n",
    "ipo_by_year.plot(kind='bar')\n",
    "\n",
    "# Show the plot\n",
    "plt.show()"
   ]
  },
  {
   "cell_type": "code",
   "execution_count": 14,
   "metadata": {},
   "outputs": [
    {
     "name": "stdout",
     "output_type": "stream",
     "text": [
      "<class 'pandas.core.frame.DataFrame'>\n",
      "RangeIndex: 3167 entries, 0 to 3166\n",
      "Data columns (total 8 columns):\n",
      "Stock Symbol             3167 non-null object\n",
      "Company Name             3167 non-null object\n",
      "Last Sale                3165 non-null float64\n",
      "Market Capitalization    3167 non-null float64\n",
      "IPO Year                 1386 non-null float64\n",
      "Sector                   2767 non-null object\n",
      "Industry                 2767 non-null object\n",
      "Exchange                 3167 non-null object\n",
      "dtypes: float64(3), object(5)\n",
      "memory usage: 198.0+ KB\n",
      "                      IPO Year                                           \\\n",
      "                         count         mean        std     min      25%   \n",
      "Sector                                                                    \n",
      "Basic Industries          30.0  2000.766667  12.516701  1972.0  1993.25   \n",
      "Capital Goods             77.0  2001.324675  10.593495  1972.0  1993.00   \n",
      "Consumer Durables         36.0  2003.222222   9.908470  1983.0  1994.75   \n",
      "Consumer Non-Durables     41.0  2000.609756  11.060918  1972.0  1993.00   \n",
      "Consumer Services        153.0  2004.104575   9.100436  1981.0  1996.00   \n",
      "Energy                    29.0  2008.034483   8.217937  1983.0  2006.00   \n",
      "Finance                  218.0  2010.321101   8.404389  1981.0  2009.25   \n",
      "Health Care              391.0  2009.240409   8.556210  1981.0  2005.00   \n",
      "Miscellaneous             42.0  2004.333333   7.162459  1987.0  1999.00   \n",
      "Public Utilities          25.0  2006.040000   9.016097  1981.0  1999.00   \n",
      "Technology               274.0  2002.653285   9.613799  1972.0  1996.00   \n",
      "Transportation            21.0  1997.809524   9.190316  1986.0  1991.00   \n",
      "\n",
      "                                               Last Sale             \\\n",
      "                          50%      75%     max     count       mean   \n",
      "Sector                                                                \n",
      "Basic Industries       1996.5  2011.75  2016.0      78.0  21.597679   \n",
      "Capital Goods          2000.0  2012.00  2016.0     172.0  26.188681   \n",
      "Consumer Durables      2002.5  2013.00  2015.0      88.0  24.363391   \n",
      "Consumer Non-Durables  1998.0  2011.00  2016.0     103.0  25.749565   \n",
      "Consumer Services      2005.0  2013.00  2017.0     348.0  34.917318   \n",
      "Energy                 2011.0  2016.00  2017.0      65.0  15.496834   \n",
      "Finance                2014.0  2015.00  2017.0     627.0  29.644242   \n",
      "Health Care            2014.0  2015.00  2017.0     645.0  19.462531   \n",
      "Miscellaneous          2005.0  2010.75  2016.0      89.0  46.094369   \n",
      "Public Utilities       2007.0  2014.00  2016.0      66.0  18.643705   \n",
      "Technology             2001.5  2012.00  2017.0     433.0  31.100317   \n",
      "Transportation         1997.0  2006.00  2013.0      52.0  28.096758   \n",
      "\n",
      "                           ...                         market_cap_m  \\\n",
      "                           ...            75%      max        count   \n",
      "Sector                     ...                                        \n",
      "Basic Industries           ...        22.4800   114.80         78.0   \n",
      "Capital Goods              ...        33.5400   304.00        172.0   \n",
      "Consumer Durables          ...        30.6525   354.00         88.0   \n",
      "Consumer Non-Durables      ...        34.8600   202.18        103.0   \n",
      "Consumer Services          ...        37.5250   884.67        348.0   \n",
      "Energy                     ...        17.9800   114.10         66.0   \n",
      "Finance                    ...        32.7000  1367.00        627.0   \n",
      "Health Care                ...        19.3800   764.79        645.0   \n",
      "Miscellaneous              ...        34.3300  1738.77         89.0   \n",
      "Public Utilities           ...        25.3150   104.46         66.0   \n",
      "Technology                 ...        37.9500   840.18        433.0   \n",
      "Transportation             ...        43.5950   152.05         52.0   \n",
      "\n",
      "                                                                               \\\n",
      "                               mean           std  min        25%         50%   \n",
      "Sector                                                                          \n",
      "Basic Industries         724.899934   1445.544949  0.0  42.870409  150.385214   \n",
      "Capital Goods           1511.237373   4829.846757  0.0  68.473978  293.801019   \n",
      "Consumer Durables        839.802607   1907.604606  0.0  41.234061  177.593858   \n",
      "Consumer Non-Durables   3104.051206  12998.094858  0.0  47.795651  229.930660   \n",
      "Consumer Services       5582.344175  26492.247636  0.0  79.944770  524.151914   \n",
      "Energy                   826.607608   1568.869627  0.0  53.604112  182.427776   \n",
      "Finance                 1044.090205   2874.795862  0.0  49.512344  205.476633   \n",
      "Health Care             1758.709197   8767.258744  0.0  38.034797  173.823325   \n",
      "Miscellaneous           3445.655935  11461.047175  0.0  63.958819  228.096175   \n",
      "Public Utilities        2357.865315   8729.065471  0.0  91.844332  378.995786   \n",
      "Technology             10883.434214  62279.404522  0.0  85.609828  600.720995   \n",
      "Transportation          2869.660007   6915.407403  0.0  68.539669  479.777469   \n",
      "\n",
      "                                                   \n",
      "                               75%            max  \n",
      "Sector                                             \n",
      "Basic Industries        721.203429    7976.835456  \n",
      "Capital Goods          1031.733122   49614.832848  \n",
      "Consumer Durables       669.007612   13620.922869  \n",
      "Consumer Non-Durables  1149.085989  111367.949216  \n",
      "Consumer Services      2463.643810  422138.530626  \n",
      "Energy                  728.108863    9468.718827  \n",
      "Finance                 732.083620   39372.418940  \n",
      "Health Care             662.945151  118927.210535  \n",
      "Miscellaneous          1544.483369   85496.045967  \n",
      "Public Utilities       1115.589226   52930.713577  \n",
      "Technology             2464.720340  740024.467000  \n",
      "Transportation         1724.087196   43005.669415  \n",
      "\n",
      "[12 rows x 24 columns]\n",
      "                     Sector               \n",
      "IPO Year      count  Basic Industries             30.000000\n",
      "                     Capital Goods                77.000000\n",
      "                     Consumer Durables            36.000000\n",
      "                     Consumer Non-Durables        41.000000\n",
      "                     Consumer Services           153.000000\n",
      "                     Energy                       29.000000\n",
      "                     Finance                     218.000000\n",
      "                     Health Care                 391.000000\n",
      "                     Miscellaneous                42.000000\n",
      "                     Public Utilities             25.000000\n",
      "                     Technology                  274.000000\n",
      "                     Transportation               21.000000\n",
      "              mean   Basic Industries           2000.766667\n",
      "                     Capital Goods              2001.324675\n",
      "                     Consumer Durables          2003.222222\n",
      "                     Consumer Non-Durables      2000.609756\n",
      "                     Consumer Services          2004.104575\n",
      "                     Energy                     2008.034483\n",
      "                     Finance                    2010.321101\n",
      "                     Health Care                2009.240409\n",
      "                     Miscellaneous              2004.333333\n",
      "                     Public Utilities           2006.040000\n",
      "                     Technology                 2002.653285\n",
      "                     Transportation             1997.809524\n",
      "              std    Basic Industries             12.516701\n",
      "                     Capital Goods                10.593495\n",
      "                     Consumer Durables             9.908470\n",
      "                     Consumer Non-Durables        11.060918\n",
      "                     Consumer Services             9.100436\n",
      "                     Energy                        8.217937\n",
      "                                                  ...      \n",
      "market_cap_m  50%    Finance                     205.476633\n",
      "                     Health Care                 173.823325\n",
      "                     Miscellaneous               228.096175\n",
      "                     Public Utilities            378.995786\n",
      "                     Technology                  600.720995\n",
      "                     Transportation              479.777469\n",
      "              75%    Basic Industries            721.203429\n",
      "                     Capital Goods              1031.733122\n",
      "                     Consumer Durables           669.007612\n",
      "                     Consumer Non-Durables      1149.085989\n",
      "                     Consumer Services          2463.643810\n",
      "                     Energy                      728.108863\n",
      "                     Finance                     732.083620\n",
      "                     Health Care                 662.945151\n",
      "                     Miscellaneous              1544.483369\n",
      "                     Public Utilities           1115.589226\n",
      "                     Technology                 2464.720340\n",
      "                     Transportation             1724.087196\n",
      "              max    Basic Industries           7976.835456\n",
      "                     Capital Goods             49614.832848\n",
      "                     Consumer Durables         13620.922869\n",
      "                     Consumer Non-Durables    111367.949216\n",
      "                     Consumer Services        422138.530626\n",
      "                     Energy                     9468.718827\n",
      "                     Finance                   39372.418940\n",
      "                     Health Care              118927.210535\n",
      "                     Miscellaneous             85496.045967\n",
      "                     Public Utilities          52930.713577\n",
      "                     Technology               740024.467000\n",
      "                     Transportation            43005.669415\n",
      "Length: 288, dtype: float64\n"
     ]
    }
   ],
   "source": [
    "# Inspect NASDAQ data\n",
    "nasdaq.info()\n",
    "\n",
    "# Create market_cap_m\n",
    "nasdaq['market_cap_m'] = nasdaq['Market Capitalization'].div(1e6)\n",
    "\n",
    "# Drop the Market Capitalization column\n",
    "nasdaq.drop('Market Capitalization', axis=1, inplace=True)\n",
    "\n",
    "# Group nasdaq by Sector\n",
    "nasdaq_by_sector = nasdaq.groupby('Sector')\n",
    "\n",
    "# Create summary statistics by sector\n",
    "summary = nasdaq_by_sector.describe()\n",
    "\n",
    "# Print the summary\n",
    "print(summary)\n",
    "\n",
    "# Unstack \n",
    "summary = summary.unstack()\n",
    "\n",
    "# Print the summary again\n",
    "print(summary)"
   ]
  },
  {
   "cell_type": "code",
   "execution_count": 15,
   "metadata": {},
   "outputs": [
    {
     "name": "stdout",
     "output_type": "stream",
     "text": [
      "Sector            Exchange\n",
      "Basic Industries  amex         137.318135\n",
      "                  nasdaq       169.181116\n",
      "                  nyse        1672.751912\n",
      "Capital Goods     amex         107.390617\n",
      "                  nasdaq       477.069539\n",
      "Name: market_cap_m, dtype: float64\n"
     ]
    },
    {
     "data": {
      "image/png": "[encoded data removed]",
      "text/plain": [
       "<Figure size 432x288 with 1 Axes>"
      ]
     },
     "metadata": {},
     "output_type": "display_data"
    }
   ],
   "source": [
    "# Group listings by Sector and Exchange\n",
    "by_sector_exchange = listing_data.groupby(['Sector', 'Exchange'])\n",
    "\n",
    "# Calculate the median market cap\n",
    "mcap_by_sector_exchange = by_sector_exchange.market_cap_m.median()\n",
    "\n",
    "# Display the head of the result\n",
    "print(mcap_by_sector_exchange.head())\n",
    "\n",
    "# Unstack mcap_by_sector_exchange\n",
    "mcap_unstacked = mcap_by_sector_exchange.unstack()\n",
    "\n",
    "# Plot as a bar chart\n",
    "mcap_unstacked.plot(kind='bar', title='Median Market Capitalization by Exchange')\n",
    "\n",
    "# Set the x label\n",
    "plt.xlabel('USD mn')\n",
    "\n",
    "# Show the plot\n",
    "plt.show()"
   ]
  },
  {
   "cell_type": "markdown",
   "metadata": {},
   "source": [
    "## Aggregating data by using .agg() method"
   ]
  },
  {
   "cell_type": "code",
   "execution_count": 4,
   "metadata": {},
   "outputs": [
    {
     "name": "stdout",
     "output_type": "stream",
     "text": [
      "                                     Average       Median  Standard Deviation\n",
      "Sector                Exchange                                               \n",
      "Basic Industries      amex        391.646249   148.564581          605.307911\n",
      "                      nasdaq      724.899934   150.385214         1445.544949\n",
      "                      nyse       9590.514730  2450.240499        24845.469793\n",
      "Capital Goods         amex        113.943659    49.596035          161.946636\n",
      "                      nasdaq     1511.237373   293.801019         4829.846757\n",
      "                      nyse      10166.901284  3215.112817        20254.615284\n",
      "Consumer Durables     amex        234.445870    18.337396          441.813008\n",
      "                      nasdaq      839.802607   177.593858         1907.604606\n",
      "                      nyse       5854.121680  2982.585002         8996.673435\n",
      "Consumer Non-Durables amex       8868.469007    60.087022        31715.734906\n",
      "                      nasdaq     3104.051206   229.930660        12998.094858\n",
      "                      nyse      17798.582072  4701.717926        36608.579658\n",
      "Consumer Services     amex        229.955283    44.142866          435.805845\n",
      "                      nasdaq     5582.344175   524.151914        26492.247636\n",
      "                      nyse       6766.358336  1784.206237        18693.684539\n",
      "Energy                amex       1090.151561    50.963858         4783.382420\n",
      "                      nasdaq      826.607608   182.427776         1568.869627\n",
      "                      nyse      12915.331006  1838.883585        36689.704192\n",
      "Finance               amex        747.535436   238.609251         1305.761473\n",
      "                      nasdaq     1044.090205   205.476633         2874.795862\n",
      "                      nyse      13880.683383  2177.155208        32350.815813\n",
      "Health Care           amex        120.015785    42.763595          227.187869\n",
      "                      nasdaq     1758.709197   173.823325         8767.258744\n",
      "                      nyse      28562.816767  5879.060322        51863.139849\n",
      "Miscellaneous         amex         67.551430    59.131037           39.543554\n",
      "                      nasdaq     3445.655935   228.096175        11461.047175\n",
      "                      nyse      18594.165519  3734.555829        50001.908517\n",
      "Public Utilities      amex       2676.118962    83.283486         4490.753282\n",
      "                      nasdaq     2357.865315   378.995786         8729.065471\n",
      "                      nyse      13412.555407  4087.367768        29139.151978\n",
      "Technology            amex         59.552665    39.680756           49.184492\n",
      "                      nasdaq    10883.434214   600.720995        62279.404522\n",
      "                      nyse       9790.156572  2077.509267        26136.430839\n",
      "Transportation        amex        265.489675   265.489675                 NaN\n",
      "                      nasdaq     2869.660007   479.777469         6915.407403\n",
      "                      nyse       8491.577404   798.215734        18281.189502\n"
     ]
    },
    {
     "name": "stderr",
     "output_type": "stream",
     "text": [
      "C:\\Users\\Gaya\\Anaconda3\\lib\\site-packages\\ipykernel_launcher.py:11: FutureWarning: using a dict on a Series for aggregation\n",
      "is deprecated and will be removed in a future version\n",
      "  # This is added back by InteractiveShellApp.init_path()\n"
     ]
    }
   ],
   "source": [
    "# Create market_cap_m\n",
    "listing_data['market_cap_m'] = listing_data['Market Capitalization'].div(1e6)\n",
    "\n",
    "# Group listing by both Sector and Exchange\n",
    "by_sector_exchange = listing_data.groupby(['Sector', 'Exchange'])\n",
    "\n",
    "# Subset market_cap_m of by_sector_exchange\n",
    "bse_mcm = by_sector_exchange['market_cap_m']\n",
    "\n",
    "# Calculate mean, median, and std in summary\n",
    "summary = bse_mcm.agg({'Average': 'mean', 'Median': 'median', 'Standard Deviation': 'std'})\n",
    "\n",
    "# Print the summary\n",
    "print(summary)"
   ]
  },
  {
   "cell_type": "markdown",
   "metadata": {},
   "source": [
    "## Visualizing with seaborn countplot"
   ]
  },
  {
   "cell_type": "code",
   "execution_count": 8,
   "metadata": {},
   "outputs": [
    {
     "data": {
      "image/png": "[encoded data removed]",
      "text/plain": [
       "<Figure size 432x288 with 1 Axes>"
      ]
     },
     "metadata": {},
     "output_type": "display_data"
    }
   ],
   "source": [
    "# Select IPOs after 2000\n",
    "listing_data = listing_data[listing_data['IPO Year'] > 2000]\n",
    "\n",
    "# Convert IPO Year to integer\n",
    "listing_data['IPO Year'] = listing_data['IPO Year'].astype(int)\n",
    "\n",
    "# Create a countplot\n",
    "sns.countplot(x='IPO Year', hue='Exchange', data=listing_data)\n",
    "\n",
    "# Rotate xticks and show result\n",
    "plt.xticks(rotation=45)\n",
    "\n",
    "# Show the plot\n",
    "plt.show()"
   ]
  },
  {
   "cell_type": "markdown",
   "metadata": {},
   "source": [
    "## The code below creates barplot with seaborn package but data is not available hence we cannot plot it"
   ]
  },
  {
   "cell_type": "code",
   "execution_count": null,
   "metadata": {},
   "outputs": [],
   "source": [
    "\n",
    "# Inspect the data\n",
    "income_trend.info()\n",
    "\n",
    "# Create barplot\n",
    "sns.barplot(x='Year', y='Income per Capita', data=income_trend)\n",
    "\n",
    "# Rotate xticks\n",
    "plt.xticks(rotation=45)\n",
    "\n",
    "# Show the plot\n",
    "plt.show()\n",
    "\n",
    "# Close the plot\n",
    "plt.close()\n",
    "\n",
    "# Create second barplot\n",
    "sns.barplot(x='Year', y='Income per Capita', data=income_trend, estimator=np.median)\n",
    "\n",
    "# Rotate xticks\n",
    "plt.xticks(rotation=45)\n",
    "\n",
    "# Show the plot\n",
    "plt.show()"
   ]
  },
  {
   "cell_type": "markdown",
   "metadata": {},
   "source": [
    "## Pointplot with seaborn"
   ]
  },
  {
   "cell_type": "code",
   "execution_count": 43,
   "metadata": {},
   "outputs": [
    {
     "data": {
      "image/png": "[encoded data removed]",
      "text/plain": [
       "<Figure size 432x288 with 1 Axes>"
      ]
     },
     "metadata": {},
     "output_type": "display_data"
    }
   ],
   "source": [
    "# Import the seaborn library as sns\n",
    "import seaborn as sns\n",
    "\n",
    "# Exclude IPOs before 2000 and from the 'amex'\n",
    "listing_data = listing_data[(listing_data['IPO Year'] > 2000) & (listing_data.Exchange != 'amex')]\n",
    "\n",
    "# Convert IPO Year to integer\n",
    "listing_data['IPO Year'] = listing_data['IPO Year'].astype(int)\n",
    "\n",
    "# Create market_cap_m\n",
    "listing_data['market_cap_m'] = listing_data['Market Capitalization'].div(1e6)\n",
    "\n",
    "# Exclude outliers\n",
    "listing_data = listing_data[listing_data.market_cap_m < listing_data.market_cap_m.quantile(.95)]\n",
    "\n",
    "# Create the pointplot\n",
    "sns.pointplot(x='IPO Year', y='market_cap_m', hue='Exchange', data=listing_data)\n",
    "\n",
    "# Rotate xticks\n",
    "plt.xticks(rotation=45)\n",
    "\n",
    "# Show the plot\n",
    "plt.show()"
   ]
  },
  {
   "cell_type": "markdown",
   "metadata": {},
   "source": [
    "## Boxlpot and swarmplot"
   ]
  },
  {
   "cell_type": "code",
   "execution_count": null,
   "metadata": {},
   "outputs": [],
   "source": [
    "# Create boxplot\n",
    "sns.boxplot(x='Country', y='Inflation', data=inflation)\n",
    "\n",
    "# Show the plot\n",
    "plt.show()\n",
    "\n",
    "# Close the plot\n",
    "plt.close()\n",
    "\n",
    "# Create swarmplot\n",
    "sns.swarmplot(x='Country', y='Inflation', data=inflation)\n",
    "\n",
    "# Show the plot\n",
    "plt.show()"
   ]
  }
 ],
 "metadata": {
  "kernelspec": {
   "display_name": "Python 3",
   "language": "python",
   "name": "python3"
  },
  "language_info": {
   "codemirror_mode": {
    "name": "ipython",
    "version": 3
   },
   "file_extension": ".py",
   "mimetype": "text/x-python",
   "name": "python",
   "nbconvert_exporter": "python",
   "pygments_lexer": "ipython3",
   "version": "3.6.5"
  }
 },
 "nbformat": 4,
 "nbformat_minor": 2
}
