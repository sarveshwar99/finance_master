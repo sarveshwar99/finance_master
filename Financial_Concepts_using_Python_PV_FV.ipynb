{
 "cells": [
  {
   "cell_type": "markdown",
   "metadata": {},
   "source": [
    "# Calculating PV and FV with numpy library"
   ]
  },
  {
   "cell_type": "code",
   "execution_count": 2,
   "metadata": {},
   "outputs": [],
   "source": [
    "import numpy as np\n",
    "import matplotlib.pyplot as plt"
   ]
  },
  {
   "cell_type": "code",
   "execution_count": 3,
   "metadata": {},
   "outputs": [
    {
     "data": {
      "text/plain": [
       "-52.04834407298674"
      ]
     },
     "execution_count": 3,
     "metadata": {},
     "output_type": "execute_result"
    }
   ],
   "source": [
    "np.pv(rate=0.1,nper=10,pmt=0,fv=135)"
   ]
  },
  {
   "cell_type": "code",
   "execution_count": 2,
   "metadata": {},
   "outputs": [],
   "source": [
    "?np.pv"
   ]
  },
  {
   "cell_type": "code",
   "execution_count": 6,
   "metadata": {},
   "outputs": [
    {
     "data": {
      "text/plain": [
       "135.0"
      ]
     },
     "execution_count": 6,
     "metadata": {},
     "output_type": "execute_result"
    }
   ],
   "source": [
    "np.fv(rate=0.1,nper=10,pmt=0,pv=-52.04834407298674)"
   ]
  },
  {
   "cell_type": "code",
   "execution_count": 7,
   "metadata": {},
   "outputs": [
    {
     "name": "stdout",
     "output_type": "stream",
     "text": [
      "Investment 1 will yield a total of $21589.25 in 10 years\n",
      "After adjusting for inflation, investment 1 is worth $16064.43 in today's dollars\n"
     ]
    }
   ],
   "source": [
    "import numpy as np\n",
    "\n",
    "# Calculate investment_1\n",
    "investment_1 = np.fv(rate=0.08, nper=10, pmt=0, pv=-10000)\n",
    "print(\"Investment 1 will yield a total of $\" + str(round(investment_1, 2)) + \" in 10 years\")\n",
    "\n",
    "# Calculate investment_2\n",
    "investment_1_discounted = np.pv(rate=0.03, nper=10, pmt=0, fv=investment_1)\n",
    "print(\"After adjusting for inflation, investment 1 is worth $\" + str(round(-investment_1_discounted, 2)) + \" in today's dollars\")"
   ]
  },
  {
   "cell_type": "markdown",
   "metadata": {},
   "source": [
    "# Calculating NPV"
   ]
  },
  {
   "cell_type": "code",
   "execution_count": 8,
   "metadata": {},
   "outputs": [
    {
     "name": "stdout",
     "output_type": "stream",
     "text": [
      "Investment 1's net present value is $471.71 in today's dollars\n",
      "Investment 2's net present value is $454.6 in today's dollars\n",
      "Investment 3's net present value is $438.72 in today's dollars\n"
     ]
    }
   ],
   "source": [
    "import numpy as np\n",
    "\n",
    "# Predefined array of cash flows\n",
    "cash_flows = np.array([100, 100, 100, 100, 100])\n",
    "\n",
    "# Calculate investment_1\n",
    "investment_1 = np.npv(rate=0.03, values=cash_flows)\n",
    "print(\"Investment 1's net present value is $\" + str(round(investment_1, 2)) + \" in today's dollars\")\n",
    "\n",
    "# Calculate investment_2\n",
    "investment_2 = np.npv(rate=0.05, values=cash_flows)\n",
    "print(\"Investment 2's net present value is $\" + str(round(investment_2, 2)) + \" in today's dollars\")\n",
    "\n",
    "# Calculate investment_3\n",
    "investment_3 = np.npv(rate=0.07, values=cash_flows)\n",
    "print(\"Investment 3's net present value is $\" + str(round(investment_3, 2)) + \" in today's dollars\")"
   ]
  },
  {
   "cell_type": "markdown",
   "metadata": {},
   "source": [
    "# Choosing between projects NPV, IRR"
   ]
  },
  {
   "cell_type": "code",
   "execution_count": 9,
   "metadata": {},
   "outputs": [],
   "source": [
    "\n",
    "import numpy as np\n",
    "\n",
    "# Create a numpy array of cash flows for Project 1\n",
    "cf_project_1 = np.array([-1000,200,250,300,350,400,450,500,550,600])\n",
    "\n",
    "# Create a numpy array of cash flows for Project 2\n",
    "cf_project_2 = np.array([-1000,150,225,300,375,425,500,575,600,625])\n",
    "\n",
    "# Scale the original objects by 1000x\n",
    "cf_project1 = cf_project_1*1000\n",
    "cf_project2 = cf_project_2*1000"
   ]
  },
  {
   "cell_type": "code",
   "execution_count": 10,
   "metadata": {},
   "outputs": [
    {
     "name": "stdout",
     "output_type": "stream",
     "text": [
      "Project 1 IRR: 28.92%\n",
      "Project 2 IRR: 28.78%\n"
     ]
    }
   ],
   "source": [
    "import numpy as np\n",
    "\n",
    "# Calculate the internal rate of return for Project 1\n",
    "irr_project1 = np.irr(cf_project1)\n",
    "print(\"Project 1 IRR: \" + str(round(100*irr_project1, 2)) + \"%\")\n",
    "\n",
    "# Calculate the internal rate of return for Project 2\n",
    "irr_project2 = np.irr(cf_project2)\n",
    "print(\"Project 2 IRR: \" + str(round(100*irr_project2, 2)) + \"%\")"
   ]
  },
  {
   "cell_type": "code",
   "execution_count": 11,
   "metadata": {},
   "outputs": [
    {
     "name": "stdout",
     "output_type": "stream",
     "text": [
      "Debt Financing: 50.0%\n",
      "Equity Financing: 50.0%\n"
     ]
    }
   ],
   "source": [
    "# Set the market value of debt\n",
    "mval_debt = 1000000\n",
    "\n",
    "# Set the market value of equity\n",
    "mval_equity = 1000000\n",
    "\n",
    "# Compute the total market value of your company's financing\n",
    "mval_total = mval_debt + mval_equity\n",
    "\n",
    "# Compute the proportion of your company's financing via debt\n",
    "percent_debt = mval_debt/mval_total\n",
    "print(\"Debt Financing: \" + str(round(100*percent_debt, 2)) + \"%\")\n",
    "\n",
    "# Compute the proportion of your company's financing via equity\n",
    "percent_equity = mval_equity/mval_total\n",
    "print(\"Equity Financing: \" + str(round(100*percent_equity, 2)) + \"%\")"
   ]
  },
  {
   "cell_type": "code",
   "execution_count": 12,
   "metadata": {},
   "outputs": [
    {
     "name": "stdout",
     "output_type": "stream",
     "text": [
      "WACC: 12.9%\n"
     ]
    }
   ],
   "source": [
    "# The proportion of debt vs equity financing is predefined\n",
    "percent_debt = 0.50\n",
    "percent_equity = 0.50\n",
    "\n",
    "# Set the cost of equity\n",
    "cost_equity = 0.18\n",
    "\n",
    "# Set the cost of debt\n",
    "cost_debt = 0.12\n",
    "\n",
    "# Set the corporate tax rate\n",
    "tax_rate = 0.35\n",
    "\n",
    "# Calculate the WACC\n",
    "wacc = percent_equity*cost_equity + percent_debt*cost_debt*(1-tax_rate)\n",
    "print(\"WACC: \" + str(round(100*wacc, 2)) + \"%\")"
   ]
  },
  {
   "cell_type": "code",
   "execution_count": 13,
   "metadata": {},
   "outputs": [
    {
     "name": "stdout",
     "output_type": "stream",
     "text": [
      "Project 1 NPV: 856073.18\n",
      "Project 2 NPV: 904741.35\n"
     ]
    }
   ],
   "source": [
    "import numpy as np\n",
    "\n",
    "# Set your weighted average cost of capital equal to 12.9%\n",
    "wacc = 0.129\n",
    "\n",
    "# Calculate the net present value for Project 1\n",
    "npv_project1 = np.npv(rate=wacc,values=cf_project1)\n",
    "print(\"Project 1 NPV: \" + str(round(npv_project1, 2)))\n",
    "\n",
    "# Calculate the net present value for Project 2\n",
    "npv_project2 = np.npv(rate=wacc,values=cf_project2)\n",
    "print(\"Project 2 NPV: \" + str(round(npv_project2, 2)))"
   ]
  },
  {
   "cell_type": "code",
   "execution_count": 14,
   "metadata": {},
   "outputs": [],
   "source": [
    "import numpy as np\n",
    "\n",
    "# Create a numpy array of cash flows for Project 1\n",
    "cf_project_1 = np.array([-700,100,150,200,250,300,350,400])\n",
    "\n",
    "# Create a numpy array of cash flows for Project 2\n",
    "cf_project_2 = np.array([-400,50,100,150,200,250,300])\n",
    "\n",
    "# Scale the original objects by 1000x\n",
    "cf_project1 = cf_project_1*1000\n",
    "cf_project2 = cf_project_2*1000"
   ]
  },
  {
   "cell_type": "code",
   "execution_count": 15,
   "metadata": {},
   "outputs": [
    {
     "name": "stdout",
     "output_type": "stream",
     "text": [
      "Project 1 IRR: 22.94%\n",
      "Project 2 IRR: 26.89%\n",
      "Project 1 NPV: 302744.98\n",
      "Project 2 NPV: 231228.39\n"
     ]
    }
   ],
   "source": [
    "import numpy as np\n",
    "\n",
    "# Calculate the IRR for Project 1\n",
    "irr_project1 = np.irr(cf_project1)\n",
    "print(\"Project 1 IRR: \" + str(round(100*irr_project1, 2)) + \"%\")\n",
    "\n",
    "# Calculate the IRR for Project 2\n",
    "irr_project2 = np.irr(cf_project2)\n",
    "print(\"Project 2 IRR: \" + str(round(100*irr_project2, 2)) + \"%\")\n",
    "\n",
    "# Set the wacc equal to 12.9%\n",
    "wacc = 0.129\n",
    "\n",
    "# Calculate the NPV for Project 1\n",
    "npv_project1 = np.npv(rate=wacc,values=cf_project1)\n",
    "print(\"Project 1 NPV: \" + str(round(npv_project1, 2)))\n",
    "\n",
    "# Calculate the NPV for Project 2\n",
    "npv_project2 = np.npv(rate=wacc,values=cf_project2)\n",
    "print(\"Project 2 NPV: \" + str(round(npv_project2, 2)))"
   ]
  },
  {
   "cell_type": "markdown",
   "metadata": {},
   "source": [
    "# Equivalent Annual Annuity (EAA)"
   ]
  },
  {
   "cell_type": "markdown",
   "metadata": {},
   "source": [
    "#### The equivalent annual annuity (EAA) approach allows us to compare two projects by essentially assuming that each project is an investment generating a flat interest rate each year (an annuity), and calculating the annual payment you would receive from each project, discounted to present value."
   ]
  },
  {
   "cell_type": "code",
   "execution_count": 17,
   "metadata": {},
   "outputs": [
    {
     "name": "stdout",
     "output_type": "stream",
     "text": [
      "Project 1 EAA: 62872.2\n",
      "Project 2 EAA: 52120.61\n"
     ]
    }
   ],
   "source": [
    "import numpy as np\n",
    "\n",
    "# Calculate the EAA for Project 1\n",
    "eaa_project1 = np.pmt(rate=wacc, nper=8, pv=-npv_project1, fv=0)\n",
    "print(\"Project 1 EAA: \" + str(round(eaa_project1, 2)))\n",
    "\n",
    "# Calculate the EAA for Project 2\n",
    "eaa_project2 = np.pmt(rate=wacc, nper=7, pv=-npv_project2, fv=0)\n",
    "print(\"Project 2 EAA: \" + str(round(eaa_project2, 2)))"
   ]
  },
  {
   "cell_type": "markdown",
   "metadata": {},
   "source": [
    "# Mortagage Loan"
   ]
  },
  {
   "cell_type": "code",
   "execution_count": 18,
   "metadata": {},
   "outputs": [
    {
     "name": "stdout",
     "output_type": "stream",
     "text": [
      "Initial Down Payment: 160000.0\n",
      "Mortgage Loan: 640000.0\n"
     ]
    }
   ],
   "source": [
    "import numpy as np\n",
    "\n",
    "# Set the value of the home you are looking to buy\n",
    "home_value = 800000\n",
    "\n",
    "# What percentage are you paying up-front?\n",
    "down_payment_percent = 0.2\n",
    "\n",
    "# Calculate the dollar value of the down payment\n",
    "down_payment = home_value*down_payment_percent\n",
    "print(\"Initial Down Payment: \" + str(down_payment))\n",
    "\n",
    "# Calculate the value of the mortgage loan required after the down payment\n",
    "mortgage_loan = home_value-down_payment\n",
    "print(\"Mortgage Loan: \" + str(mortgage_loan))"
   ]
  },
  {
   "cell_type": "code",
   "execution_count": 23,
   "metadata": {},
   "outputs": [
    {
     "name": "stdout",
     "output_type": "stream",
     "text": [
      "Monthly Mortgage Payment: 2941.13\n"
     ]
    }
   ],
   "source": [
    "import numpy as np\n",
    "\n",
    "mortgage_rate=0.0375\n",
    "\n",
    "# Derive the equivalent monthly mortgage rate from the annual rate\n",
    "mortgage_rate_periodic = (1+mortgage_rate)**(1/12)-1\n",
    "\n",
    "# How many monthly payment periods will there be over 30 years?\n",
    "mortgage_payment_periods = 30*12\n",
    "\n",
    "# Calculate the monthly mortgage payment (multiply by -1 to keep it positive)\n",
    "periodic_mortgage_payment = -1*np.pmt(rate=mortgage_rate_periodic, nper=mortgage_payment_periods, pv=mortgage_loan)\n",
    "print(\"Monthly Mortgage Payment: \" + str(round(periodic_mortgage_payment, 2)))"
   ]
  },
  {
   "cell_type": "code",
   "execution_count": 24,
   "metadata": {},
   "outputs": [
    {
     "data": {
      "text/plain": [
       "0.003072541703255549"
      ]
     },
     "execution_count": 24,
     "metadata": {},
     "output_type": "execute_result"
    }
   ],
   "source": [
    "mortgage_rate_periodic"
   ]
  },
  {
   "cell_type": "code",
   "execution_count": 25,
   "metadata": {},
   "outputs": [
    {
     "name": "stdout",
     "output_type": "stream",
     "text": [
      "Initial Interest Payment: 1966.43\n",
      "Initial Principal Payment: 974.7\n"
     ]
    }
   ],
   "source": [
    "# Calculate the amount of the first loan payment that will go towards interest\n",
    "initial_interest_payment = mortgage_loan*mortgage_rate_periodic\n",
    "print(\"Initial Interest Payment: \" + str(round(initial_interest_payment, 2)))\n",
    "\n",
    "# Calculate the amount of the first loan payment that will go towards principal\n",
    "initial_principal_payment = periodic_mortgage_payment-initial_interest_payment\n",
    "print(\"Initial Principal Payment: \" + str(round(initial_principal_payment, 2)))"
   ]
  },
  {
   "cell_type": "code",
   "execution_count": null,
   "metadata": {},
   "outputs": [],
   "source": [
    "principal_remaining=np.zeros(360)\n",
    "\n",
    "# Loop through each mortgage payment period\n",
    "for i in range(0, mortgage_payment_periods):\n",
    "    \n",
    "    # Handle the case for the first iteration\n",
    "    if i == 0:\n",
    "        previous_principal_remaining = mortgage_loan\n",
    "    else:\n",
    "        previous_principal_remaining = principal_remaining[i-1]\n",
    "        \n",
    "    # Calculate the interest and principal payments\n",
    "    interest_payment = round(previous_principal_remaining*mortgage_rate_periodic, 2)\n",
    "    principal_payment = round(periodic_mortgage_payment - interest_payment, 2)\n",
    "    \n",
    "    # Catch the case where all principal is paid off in the final period\n",
    "    if previous_principal_remaining - principal_payment < 0:\n",
    "        principal_payment = previous_principal_remaining\n",
    "        \n",
    "    # Collect the principal remaining values in an array\n",
    "    principal_remaining[i] = previous_principal_remaining - principal_payment\n",
    "    \n",
    "    # Print the payments for the first few periods\n",
    "    print(i, interest_payment, principal_payment, principal_remaining)"
   ]
  },
  {
   "cell_type": "markdown",
   "metadata": {},
   "source": [
    "# Capital budgeting"
   ]
  },
  {
   "cell_type": "code",
   "execution_count": 3,
   "metadata": {},
   "outputs": [
    {
     "name": "stdout",
     "output_type": "stream",
     "text": [
      "Salary after taxes: 59500.0\n",
      "Monthly takehome salary: 4958.33\n"
     ]
    }
   ],
   "source": [
    "# Enter your annual salary\n",
    "salary = 85000\n",
    "\n",
    "# Assume a tax rate of 30%\n",
    "tax_rate = 0.3\n",
    "\n",
    "# Calculate your salary after taxes\n",
    "salary_after_taxes = salary*(1-tax_rate)\n",
    "print(\"Salary after taxes: \" + str(round(salary_after_taxes, 2)))\n",
    "\n",
    "# Calculate your monthly salary after taxes\n",
    "monthly_takehome_salary = salary*(1-tax_rate)/12\n",
    "print(\"Monthly takehome salary: \" + str(round(monthly_takehome_salary, 2)))"
   ]
  },
  {
   "cell_type": "code",
   "execution_count": 4,
   "metadata": {},
   "outputs": [
    {
     "name": "stdout",
     "output_type": "stream",
     "text": [
      "Monthly expenses: 2550\n",
      "Monthly savings: 2408.33\n"
     ]
    }
   ],
   "source": [
    "# Enter your monthly rent\n",
    "monthly_rent = 1200\n",
    "\n",
    "# Enter your daily food budget\n",
    "daily_food_budget = 30\n",
    "\n",
    "# Calculate your monthly food budget assuming 30 days per month\n",
    "monthly_food_budget = daily_food_budget*30\n",
    "\n",
    "# Set your monthly entertainment budget\n",
    "monthly_entertainment_budget = 200\n",
    "\n",
    "# Allocate funds for unforeseen expenses, just in case\n",
    "monthly_unforeseen_expenses = 250\n",
    "\n",
    "# Next, calculate your total monthly expenses\n",
    "monthly_expenses = monthly_rent+monthly_food_budget+monthly_entertainment_budget+monthly_unforeseen_expenses\n",
    "print(\"Monthly expenses: \" + str(round(monthly_expenses, 2)))\n",
    "\n",
    "# Finally, calculate your monthly take-home savings\n",
    "monthly_savings = monthly_takehome_salary - monthly_expenses\n",
    "print(\"Monthly savings: \" + str(round(monthly_savings, 2)))"
   ]
  },
  {
   "cell_type": "code",
   "execution_count": 5,
   "metadata": {},
   "outputs": [
    {
     "data": {
      "image/png": "[encoded data removed]",
      "text/plain": [
       "<Figure size 432x288 with 1 Axes>"
      ]
     },
     "metadata": {},
     "output_type": "display_data"
    }
   ],
   "source": [
    "import numpy as np\n",
    "\n",
    "# Create monthly forecasts up to 15 years from now\n",
    "forecast_months = 12*15\n",
    "\n",
    "# Set your annual salary growth rate\n",
    "annual_salary_growth = 0.05\n",
    "\n",
    "# Calculate your equivalent monthly salary growth rate\n",
    "monthly_salary_growth = (1+annual_salary_growth)**(1/12)-1\n",
    "\n",
    "# Forecast the cumulative growth of your salary\n",
    "cumulative_salary_growth_forecast = np.cumprod(np.repeat(1 + monthly_salary_growth, forecast_months))\n",
    "\n",
    "# Calculate the actual salary forecast\n",
    "salary_forecast = monthly_takehome_salary*cumulative_salary_growth_forecast\n",
    "\n",
    "# Plot the forecasted salary\n",
    "plt.plot(salary_forecast, color='blue')\n",
    "plt.show()"
   ]
  },
  {
   "cell_type": "code",
   "execution_count": 6,
   "metadata": {},
   "outputs": [
    {
     "data": {
      "image/png": "[encoded data removed]",
      "text/plain": [
       "<Figure size 432x288 with 1 Axes>"
      ]
     },
     "metadata": {},
     "output_type": "display_data"
    }
   ],
   "source": [
    "import numpy as np\n",
    "\n",
    "# Set the annual inflation rate\n",
    "annual_inflation = 0.025\n",
    "\n",
    "# Calculate the equivalent monthly inflation rate\n",
    "monthly_inflation = (1+annual_inflation)**(1/12)-1\n",
    "\n",
    "# Forecast cumulative inflation over time\n",
    "cumulative_inflation_forecast = np.cumprod(np.repeat(1 + monthly_inflation, forecast_months))\n",
    "\n",
    "# Calculate your forecasted expenses\n",
    "expenses_forecast = monthly_expenses*cumulative_inflation_forecast\n",
    "\n",
    "# Plot the forecasted expenses\n",
    "plt.plot(expenses_forecast, color='red')\n",
    "plt.show()"
   ]
  },
  {
   "cell_type": "code",
   "execution_count": 7,
   "metadata": {},
   "outputs": [
    {
     "name": "stdout",
     "output_type": "stream",
     "text": [
      "Your final net worth: 762318.83\n"
     ]
    },
    {
     "data": {
      "image/png": "[encoded data removed]",
      "text/plain": [
       "<Figure size 432x288 with 1 Axes>"
      ]
     },
     "metadata": {},
     "output_type": "display_data"
    }
   ],
   "source": [
    "import numpy as np\n",
    "\n",
    "# Calculate your savings for each month\n",
    "savings_forecast = salary_forecast-expenses_forecast\n",
    "\n",
    "# Calculate your cumulative savings over time\n",
    "cumulative_savings = np.cumsum(savings_forecast)\n",
    "\n",
    "# Print the final cumulative savings after 15 years\n",
    "final_net_worth = cumulative_savings[-1]\n",
    "print(\"Your final net worth: \" + str(round(final_net_worth, 2)))\n",
    "\n",
    "# Plot the forecasted savings\n",
    "plt.plot(cumulative_savings, color='blue')\n",
    "plt.show()"
   ]
  },
  {
   "cell_type": "code",
   "execution_count": 8,
   "metadata": {},
   "outputs": [
    {
     "name": "stdout",
     "output_type": "stream",
     "text": [
      "You will have to invest $3214.35 per month to amass $1M over 15 years\n"
     ]
    }
   ],
   "source": [
    "import numpy as np\n",
    "\n",
    "# Set the annual investment return to 7%\n",
    "investment_rate_annual = 0.07\n",
    "\n",
    "# Calculate the monthly investment return\n",
    "investment_rate_monthly = (1+investment_rate_annual)**(1/12)-1\n",
    "# Calculate your required monthly investment to amass $1M\n",
    "required_investment_monthly = np.pmt(rate=investment_rate_monthly, nper=forecast_months, pv=0, fv=-1000000)\n",
    "print(\"You will have to invest $\" + str(round(required_investment_monthly, 2)) + \" per month to amass $1M over 15 years\")"
   ]
  },
  {
   "cell_type": "code",
   "execution_count": 14,
   "metadata": {},
   "outputs": [
    {
     "name": "stderr",
     "output_type": "stream",
     "text": [
      "No handles with labels found to put in legend.\n"
     ]
    },
    {
     "data": {
      "image/png": "[encoded data removed]",
      "text/plain": [
       "<Figure size 432x288 with 1 Axes>"
      ]
     },
     "metadata": {},
     "output_type": "display_data"
    }
   ],
   "source": [
    "import numpy as np\n",
    "\n",
    "monthly_investment_percentage=0.3\n",
    "\n",
    "# Calculate your monthly deposit into your investment account\n",
    "investment_deposit_forecast = savings_forecast*monthly_investment_percentage\n",
    "\n",
    "# The rest goes into your savings account\n",
    "savings_forecast_new = savings_forecast * (1-monthly_investment_percentage)\n",
    "\n",
    "# Calculate your cumulative savings over time\n",
    "cumulative_savings_new = np.cumsum(savings_forecast_new)\n",
    "\n",
    "# Plot your forecasted monthly savings vs investments\n",
    "plt.plot(investment_deposit_forecast, color='red')\n",
    "plt.plot(savings_forecast_new, color='blue')\n",
    "plt.legend( loc=2)\n",
    "plt.show()"
   ]
  },
  {
   "cell_type": "code",
   "execution_count": null,
   "metadata": {},
   "outputs": [],
   "source": []
  }
 ],
 "metadata": {
  "kernelspec": {
   "display_name": "Python 3",
   "language": "python",
   "name": "python3"
  },
  "language_info": {
   "codemirror_mode": {
    "name": "ipython",
    "version": 3
   },
   "file_extension": ".py",
   "mimetype": "text/x-python",
   "name": "python",
   "nbconvert_exporter": "python",
   "pygments_lexer": "ipython3",
   "version": "3.6.5"
  }
 },
 "nbformat": 4,
 "nbformat_minor": 2
}
